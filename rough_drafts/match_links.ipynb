{
 "cells": [
  {
   "cell_type": "code",
   "execution_count": 1,
   "id": "3f558723",
   "metadata": {},
   "outputs": [],
   "source": [
    "from selenium import webdriver\n",
    "from selenium.webdriver.common.by import By\n",
    "import time"
   ]
  },
  {
   "cell_type": "code",
   "execution_count": 2,
   "id": "354186bf",
   "metadata": {},
   "outputs": [],
   "source": [
    "driver = webdriver.Chrome()"
   ]
  },
  {
   "cell_type": "code",
   "execution_count": 7,
   "id": "b3434f9f",
   "metadata": {},
   "outputs": [],
   "source": [
    "driver.quit()"
   ]
  },
  {
   "cell_type": "code",
   "execution_count": 4,
   "id": "ba28b889",
   "metadata": {},
   "outputs": [],
   "source": [
    "url = \"https://www.espncricinfo.com/team/bangladesh-25/match-schedule-fixtures-and-results?format=2\""
   ]
  },
  {
   "cell_type": "code",
   "execution_count": 5,
   "id": "5d4bfc12",
   "metadata": {},
   "outputs": [],
   "source": [
    "driver.get(url)"
   ]
  },
  {
   "cell_type": "code",
   "execution_count": null,
   "id": "9f76db0d",
   "metadata": {},
   "outputs": [],
   "source": [
    "# Popup fix\n"
   ]
  },
  {
   "cell_type": "code",
   "execution_count": 6,
   "id": "d8b46eaf",
   "metadata": {},
   "outputs": [
    {
     "name": "stdout",
     "output_type": "stream",
     "text": [
      "time till popup:  15.03\n",
      "time till popup:  15.02\n",
      "time till popup:  15.01\n"
     ]
    }
   ],
   "source": [
    "def test_popup():\n",
    "    driver = webdriver.Chrome()\n",
    "    driver.get(url)\n",
    "    start_time = time.time()\n",
    "    #driver.implicitly_wait(16)\n",
    "    popup_container_csss = \"#wzrk_wrapper > div.wzrk-alert.wiz-show-animate\"\n",
    "    pfound = False\n",
    "    while(not pfound):\n",
    "        try:\n",
    "            popup = driver.find_element(By.CSS_SELECTOR, popup_container_csss)\n",
    "            pfound = True\n",
    "        except:\n",
    "            pass\n",
    "    end_time = time.time()\n",
    "    print('time till popup: ',round(end_time-start_time,2))\n",
    "    driver.quit()\n",
    "\n",
    "for i in range(3):\n",
    "    test_popup()"
   ]
  },
  {
   "cell_type": "code",
   "execution_count": null,
   "id": "3c6b1453",
   "metadata": {},
   "outputs": [],
   "source": [
    "driver = webdriver.Chrome()\n",
    "driver.get(url)\n",
    "driver.implicitly_wait(16)\n",
    "popup_container_csss = \"#wzrk_wrapper > div.wzrk-alert.wiz-show-animate\"\n",
    "popup_container = driver.find_element(By.CSS_SELECTOR, popup_container_csss)\n",
    "popup_buttons = popup_container.find_elements(By.CSS_SELECTOR, 'button')\n",
    "for b in popup_buttons:\n",
    "    if 'not now' in b.get_attribute('innerHTML').lower(): b.click()\n"
   ]
  },
  {
   "cell_type": "code",
   "execution_count": 53,
   "id": "7f6e5268",
   "metadata": {},
   "outputs": [],
   "source": [
    "navigator_month_button = driver.find_element(By.CSS_SELECTOR, r'#main-container > div.lg\\:ds-container.lg\\:ds-mx-auto.lg\\:ds-px-5 > div.ds-flex.ds-space-x-5 > div > div.ds-mb-4 > div:nth-child(1) > aside:nth-child(1) > div > div > div:nth-child(1) > div > div > div > div:nth-child(2) > span')\n",
    "navigator_month_button.click()"
   ]
  },
  {
   "cell_type": "code",
   "execution_count": 4,
   "id": "ccebddd0",
   "metadata": {},
   "outputs": [
    {
     "ename": "KeyboardInterrupt",
     "evalue": "",
     "output_type": "error",
     "traceback": [
      "\u001b[31m---------------------------------------------------------------------------\u001b[39m",
      "\u001b[31mKeyboardInterrupt\u001b[39m                         Traceback (most recent call last)",
      "\u001b[36mCell\u001b[39m\u001b[36m \u001b[39m\u001b[32mIn[4]\u001b[39m\u001b[32m, line 18\u001b[39m\n\u001b[32m     15\u001b[39m             year_right_button.click()\n\u001b[32m     16\u001b[39m             time.sleep(\u001b[32m.1\u001b[39m)\n\u001b[32m---> \u001b[39m\u001b[32m18\u001b[39m \u001b[43mchange_year\u001b[49m\u001b[43m(\u001b[49m\u001b[32;43m2013\u001b[39;49m\u001b[43m)\u001b[49m\n",
      "\u001b[36mCell\u001b[39m\u001b[36m \u001b[39m\u001b[32mIn[4]\u001b[39m\u001b[32m, line 2\u001b[39m, in \u001b[36mchange_year\u001b[39m\u001b[34m(year_to)\u001b[39m\n\u001b[32m      1\u001b[39m \u001b[38;5;28;01mdef\u001b[39;00m\u001b[38;5;250m \u001b[39m\u001b[34mchange_year\u001b[39m(year_to):\n\u001b[32m----> \u001b[39m\u001b[32m2\u001b[39m     year_left_button = \u001b[43mdriver\u001b[49m\u001b[43m.\u001b[49m\u001b[43mfind_element\u001b[49m\u001b[43m(\u001b[49m\u001b[43mBy\u001b[49m\u001b[43m.\u001b[49m\u001b[43mCSS_SELECTOR\u001b[49m\u001b[43m,\u001b[49m\u001b[43m \u001b[49m\u001b[33;43mr\u001b[39;49m\u001b[33;43m'\u001b[39;49m\u001b[33;43mbody > div:nth-child(31) > div > div > div.ds-grow.ds-overflow-y-auto.ds-p-0.\u001b[39;49m\u001b[33;43m\\\u001b[39;49m\u001b[33;43m!ds-overflow-hidden > div.ds-block.ds-grow.ds-border-line.ds-border-t.ds-overflow-y-auto.ds-h-full.ds-pb-20 > div > div > div > div > div > div > div.react-datepicker__header.react-datepicker__header--custom > div > button:nth-child(1)\u001b[39;49m\u001b[33;43m'\u001b[39;49m\u001b[43m)\u001b[49m\n\u001b[32m      3\u001b[39m     year_right_button = driver.find_element(By.CSS_SELECTOR, \u001b[33mr\u001b[39m\u001b[33m'\u001b[39m\u001b[33mbody > div:nth-child(31) > div > div > div.ds-grow.ds-overflow-y-auto.ds-p-0.\u001b[39m\u001b[33m\\\u001b[39m\u001b[33m!ds-overflow-hidden > div.ds-block.ds-grow.ds-border-line.ds-border-t.ds-overflow-y-auto.ds-h-full.ds-pb-20 > div > div > div > div > div > div > div.react-datepicker__header.react-datepicker__header--custom > div > button:nth-child(3)\u001b[39m\u001b[33m'\u001b[39m)\n\u001b[32m      4\u001b[39m     keypad_year = driver.find_element(By.CSS_SELECTOR, \u001b[33mr\u001b[39m\u001b[33m'\u001b[39m\u001b[33mbody > div:nth-child(31) > div > div > div.ds-grow.ds-overflow-y-auto.ds-p-0.\u001b[39m\u001b[33m\\\u001b[39m\u001b[33m!ds-overflow-hidden > div.ds-block.ds-grow.ds-border-line.ds-border-t.ds-overflow-y-auto.ds-h-full.ds-pb-20 > div > div > div > div > div > div > div.react-datepicker__header.react-datepicker__header--custom > div > span\u001b[39m\u001b[33m'\u001b[39m)\n",
      "\u001b[36mFile \u001b[39m\u001b[32mc:\\Users\\nukag\\projects\\.venv\\Lib\\site-packages\\selenium\\webdriver\\remote\\webdriver.py:926\u001b[39m, in \u001b[36mWebDriver.find_element\u001b[39m\u001b[34m(self, by, value)\u001b[39m\n\u001b[32m    923\u001b[39m         \u001b[38;5;28;01mraise\u001b[39;00m NoSuchElementException(\u001b[33mf\u001b[39m\u001b[33m\"\u001b[39m\u001b[33mCannot locate relative element with: \u001b[39m\u001b[38;5;132;01m{\u001b[39;00mby.root\u001b[38;5;132;01m}\u001b[39;00m\u001b[33m\"\u001b[39m)\n\u001b[32m    924\u001b[39m     \u001b[38;5;28;01mreturn\u001b[39;00m elements[\u001b[32m0\u001b[39m]\n\u001b[32m--> \u001b[39m\u001b[32m926\u001b[39m \u001b[38;5;28;01mreturn\u001b[39;00m \u001b[38;5;28;43mself\u001b[39;49m\u001b[43m.\u001b[49m\u001b[43mexecute\u001b[49m\u001b[43m(\u001b[49m\u001b[43mCommand\u001b[49m\u001b[43m.\u001b[49m\u001b[43mFIND_ELEMENT\u001b[49m\u001b[43m,\u001b[49m\u001b[43m \u001b[49m\u001b[43m{\u001b[49m\u001b[33;43m\"\u001b[39;49m\u001b[33;43musing\u001b[39;49m\u001b[33;43m\"\u001b[39;49m\u001b[43m:\u001b[49m\u001b[43m \u001b[49m\u001b[43mby\u001b[49m\u001b[43m,\u001b[49m\u001b[43m \u001b[49m\u001b[33;43m\"\u001b[39;49m\u001b[33;43mvalue\u001b[39;49m\u001b[33;43m\"\u001b[39;49m\u001b[43m:\u001b[49m\u001b[43m \u001b[49m\u001b[43mvalue\u001b[49m\u001b[43m}\u001b[49m\u001b[43m)\u001b[49m[\u001b[33m\"\u001b[39m\u001b[33mvalue\u001b[39m\u001b[33m\"\u001b[39m]\n",
      "\u001b[36mFile \u001b[39m\u001b[32mc:\\Users\\nukag\\projects\\.venv\\Lib\\site-packages\\selenium\\webdriver\\remote\\webdriver.py:455\u001b[39m, in \u001b[36mWebDriver.execute\u001b[39m\u001b[34m(self, driver_command, params)\u001b[39m\n\u001b[32m    452\u001b[39m     \u001b[38;5;28;01melif\u001b[39;00m \u001b[33m\"\u001b[39m\u001b[33msessionId\u001b[39m\u001b[33m\"\u001b[39m \u001b[38;5;129;01mnot\u001b[39;00m \u001b[38;5;129;01min\u001b[39;00m params:\n\u001b[32m    453\u001b[39m         params[\u001b[33m\"\u001b[39m\u001b[33msessionId\u001b[39m\u001b[33m\"\u001b[39m] = \u001b[38;5;28mself\u001b[39m.session_id\n\u001b[32m--> \u001b[39m\u001b[32m455\u001b[39m response = \u001b[43mcast\u001b[49m\u001b[43m(\u001b[49m\u001b[43mRemoteConnection\u001b[49m\u001b[43m,\u001b[49m\u001b[43m \u001b[49m\u001b[38;5;28;43mself\u001b[39;49m\u001b[43m.\u001b[49m\u001b[43mcommand_executor\u001b[49m\u001b[43m)\u001b[49m\u001b[43m.\u001b[49m\u001b[43mexecute\u001b[49m\u001b[43m(\u001b[49m\u001b[43mdriver_command\u001b[49m\u001b[43m,\u001b[49m\u001b[43m \u001b[49m\u001b[43mparams\u001b[49m\u001b[43m)\u001b[49m\n\u001b[32m    457\u001b[39m \u001b[38;5;28;01mif\u001b[39;00m response:\n\u001b[32m    458\u001b[39m     \u001b[38;5;28mself\u001b[39m.error_handler.check_response(response)\n",
      "\u001b[36mFile \u001b[39m\u001b[32mc:\\Users\\nukag\\projects\\.venv\\Lib\\site-packages\\selenium\\webdriver\\remote\\remote_connection.py:406\u001b[39m, in \u001b[36mRemoteConnection.execute\u001b[39m\u001b[34m(self, command, params)\u001b[39m\n\u001b[32m    404\u001b[39m trimmed = \u001b[38;5;28mself\u001b[39m._trim_large_entries(params)\n\u001b[32m    405\u001b[39m LOGGER.debug(\u001b[33m\"\u001b[39m\u001b[38;5;132;01m%s\u001b[39;00m\u001b[33m \u001b[39m\u001b[38;5;132;01m%s\u001b[39;00m\u001b[33m \u001b[39m\u001b[38;5;132;01m%s\u001b[39;00m\u001b[33m\"\u001b[39m, command_info[\u001b[32m0\u001b[39m], url, \u001b[38;5;28mstr\u001b[39m(trimmed))\n\u001b[32m--> \u001b[39m\u001b[32m406\u001b[39m \u001b[38;5;28;01mreturn\u001b[39;00m \u001b[38;5;28;43mself\u001b[39;49m\u001b[43m.\u001b[49m\u001b[43m_request\u001b[49m\u001b[43m(\u001b[49m\u001b[43mcommand_info\u001b[49m\u001b[43m[\u001b[49m\u001b[32;43m0\u001b[39;49m\u001b[43m]\u001b[49m\u001b[43m,\u001b[49m\u001b[43m \u001b[49m\u001b[43murl\u001b[49m\u001b[43m,\u001b[49m\u001b[43m \u001b[49m\u001b[43mbody\u001b[49m\u001b[43m=\u001b[49m\u001b[43mdata\u001b[49m\u001b[43m)\u001b[49m\n",
      "\u001b[36mFile \u001b[39m\u001b[32mc:\\Users\\nukag\\projects\\.venv\\Lib\\site-packages\\selenium\\webdriver\\remote\\remote_connection.py:430\u001b[39m, in \u001b[36mRemoteConnection._request\u001b[39m\u001b[34m(self, method, url, body)\u001b[39m\n\u001b[32m    427\u001b[39m     body = \u001b[38;5;28;01mNone\u001b[39;00m\n\u001b[32m    429\u001b[39m \u001b[38;5;28;01mif\u001b[39;00m \u001b[38;5;28mself\u001b[39m._client_config.keep_alive:\n\u001b[32m--> \u001b[39m\u001b[32m430\u001b[39m     response = \u001b[38;5;28;43mself\u001b[39;49m\u001b[43m.\u001b[49m\u001b[43m_conn\u001b[49m\u001b[43m.\u001b[49m\u001b[43mrequest\u001b[49m\u001b[43m(\u001b[49m\u001b[43mmethod\u001b[49m\u001b[43m,\u001b[49m\u001b[43m \u001b[49m\u001b[43murl\u001b[49m\u001b[43m,\u001b[49m\u001b[43m \u001b[49m\u001b[43mbody\u001b[49m\u001b[43m=\u001b[49m\u001b[43mbody\u001b[49m\u001b[43m,\u001b[49m\u001b[43m \u001b[49m\u001b[43mheaders\u001b[49m\u001b[43m=\u001b[49m\u001b[43mheaders\u001b[49m\u001b[43m,\u001b[49m\u001b[43m \u001b[49m\u001b[43mtimeout\u001b[49m\u001b[43m=\u001b[49m\u001b[38;5;28;43mself\u001b[39;49m\u001b[43m.\u001b[49m\u001b[43m_client_config\u001b[49m\u001b[43m.\u001b[49m\u001b[43mtimeout\u001b[49m\u001b[43m)\u001b[49m\n\u001b[32m    431\u001b[39m     statuscode = response.status\n\u001b[32m    432\u001b[39m \u001b[38;5;28;01melse\u001b[39;00m:\n",
      "\u001b[36mFile \u001b[39m\u001b[32mc:\\Users\\nukag\\projects\\.venv\\Lib\\site-packages\\urllib3\\_request_methods.py:143\u001b[39m, in \u001b[36mRequestMethods.request\u001b[39m\u001b[34m(self, method, url, body, fields, headers, json, **urlopen_kw)\u001b[39m\n\u001b[32m    135\u001b[39m     \u001b[38;5;28;01mreturn\u001b[39;00m \u001b[38;5;28mself\u001b[39m.request_encode_url(\n\u001b[32m    136\u001b[39m         method,\n\u001b[32m    137\u001b[39m         url,\n\u001b[32m   (...)\u001b[39m\u001b[32m    140\u001b[39m         **urlopen_kw,\n\u001b[32m    141\u001b[39m     )\n\u001b[32m    142\u001b[39m \u001b[38;5;28;01melse\u001b[39;00m:\n\u001b[32m--> \u001b[39m\u001b[32m143\u001b[39m     \u001b[38;5;28;01mreturn\u001b[39;00m \u001b[38;5;28;43mself\u001b[39;49m\u001b[43m.\u001b[49m\u001b[43mrequest_encode_body\u001b[49m\u001b[43m(\u001b[49m\n\u001b[32m    144\u001b[39m \u001b[43m        \u001b[49m\u001b[43mmethod\u001b[49m\u001b[43m,\u001b[49m\u001b[43m \u001b[49m\u001b[43murl\u001b[49m\u001b[43m,\u001b[49m\u001b[43m \u001b[49m\u001b[43mfields\u001b[49m\u001b[43m=\u001b[49m\u001b[43mfields\u001b[49m\u001b[43m,\u001b[49m\u001b[43m \u001b[49m\u001b[43mheaders\u001b[49m\u001b[43m=\u001b[49m\u001b[43mheaders\u001b[49m\u001b[43m,\u001b[49m\u001b[43m \u001b[49m\u001b[43m*\u001b[49m\u001b[43m*\u001b[49m\u001b[43murlopen_kw\u001b[49m\n\u001b[32m    145\u001b[39m \u001b[43m    \u001b[49m\u001b[43m)\u001b[49m\n",
      "\u001b[36mFile \u001b[39m\u001b[32mc:\\Users\\nukag\\projects\\.venv\\Lib\\site-packages\\urllib3\\_request_methods.py:278\u001b[39m, in \u001b[36mRequestMethods.request_encode_body\u001b[39m\u001b[34m(self, method, url, fields, headers, encode_multipart, multipart_boundary, **urlopen_kw)\u001b[39m\n\u001b[32m    274\u001b[39m     extra_kw[\u001b[33m\"\u001b[39m\u001b[33mheaders\u001b[39m\u001b[33m\"\u001b[39m].setdefault(\u001b[33m\"\u001b[39m\u001b[33mContent-Type\u001b[39m\u001b[33m\"\u001b[39m, content_type)\n\u001b[32m    276\u001b[39m extra_kw.update(urlopen_kw)\n\u001b[32m--> \u001b[39m\u001b[32m278\u001b[39m \u001b[38;5;28;01mreturn\u001b[39;00m \u001b[38;5;28;43mself\u001b[39;49m\u001b[43m.\u001b[49m\u001b[43murlopen\u001b[49m\u001b[43m(\u001b[49m\u001b[43mmethod\u001b[49m\u001b[43m,\u001b[49m\u001b[43m \u001b[49m\u001b[43murl\u001b[49m\u001b[43m,\u001b[49m\u001b[43m \u001b[49m\u001b[43m*\u001b[49m\u001b[43m*\u001b[49m\u001b[43mextra_kw\u001b[49m\u001b[43m)\u001b[49m\n",
      "\u001b[36mFile \u001b[39m\u001b[32mc:\\Users\\nukag\\projects\\.venv\\Lib\\site-packages\\urllib3\\poolmanager.py:459\u001b[39m, in \u001b[36mPoolManager.urlopen\u001b[39m\u001b[34m(self, method, url, redirect, **kw)\u001b[39m\n\u001b[32m    457\u001b[39m     response = conn.urlopen(method, url, **kw)\n\u001b[32m    458\u001b[39m \u001b[38;5;28;01melse\u001b[39;00m:\n\u001b[32m--> \u001b[39m\u001b[32m459\u001b[39m     response = \u001b[43mconn\u001b[49m\u001b[43m.\u001b[49m\u001b[43murlopen\u001b[49m\u001b[43m(\u001b[49m\u001b[43mmethod\u001b[49m\u001b[43m,\u001b[49m\u001b[43m \u001b[49m\u001b[43mu\u001b[49m\u001b[43m.\u001b[49m\u001b[43mrequest_uri\u001b[49m\u001b[43m,\u001b[49m\u001b[43m \u001b[49m\u001b[43m*\u001b[49m\u001b[43m*\u001b[49m\u001b[43mkw\u001b[49m\u001b[43m)\u001b[49m\n\u001b[32m    461\u001b[39m redirect_location = redirect \u001b[38;5;129;01mand\u001b[39;00m response.get_redirect_location()\n\u001b[32m    462\u001b[39m \u001b[38;5;28;01mif\u001b[39;00m \u001b[38;5;129;01mnot\u001b[39;00m redirect_location:\n",
      "\u001b[36mFile \u001b[39m\u001b[32mc:\\Users\\nukag\\projects\\.venv\\Lib\\site-packages\\urllib3\\connectionpool.py:787\u001b[39m, in \u001b[36mHTTPConnectionPool.urlopen\u001b[39m\u001b[34m(self, method, url, body, headers, retries, redirect, assert_same_host, timeout, pool_timeout, release_conn, chunked, body_pos, preload_content, decode_content, **response_kw)\u001b[39m\n\u001b[32m    784\u001b[39m response_conn = conn \u001b[38;5;28;01mif\u001b[39;00m \u001b[38;5;129;01mnot\u001b[39;00m release_conn \u001b[38;5;28;01melse\u001b[39;00m \u001b[38;5;28;01mNone\u001b[39;00m\n\u001b[32m    786\u001b[39m \u001b[38;5;66;03m# Make the request on the HTTPConnection object\u001b[39;00m\n\u001b[32m--> \u001b[39m\u001b[32m787\u001b[39m response = \u001b[38;5;28;43mself\u001b[39;49m\u001b[43m.\u001b[49m\u001b[43m_make_request\u001b[49m\u001b[43m(\u001b[49m\n\u001b[32m    788\u001b[39m \u001b[43m    \u001b[49m\u001b[43mconn\u001b[49m\u001b[43m,\u001b[49m\n\u001b[32m    789\u001b[39m \u001b[43m    \u001b[49m\u001b[43mmethod\u001b[49m\u001b[43m,\u001b[49m\n\u001b[32m    790\u001b[39m \u001b[43m    \u001b[49m\u001b[43murl\u001b[49m\u001b[43m,\u001b[49m\n\u001b[32m    791\u001b[39m \u001b[43m    \u001b[49m\u001b[43mtimeout\u001b[49m\u001b[43m=\u001b[49m\u001b[43mtimeout_obj\u001b[49m\u001b[43m,\u001b[49m\n\u001b[32m    792\u001b[39m \u001b[43m    \u001b[49m\u001b[43mbody\u001b[49m\u001b[43m=\u001b[49m\u001b[43mbody\u001b[49m\u001b[43m,\u001b[49m\n\u001b[32m    793\u001b[39m \u001b[43m    \u001b[49m\u001b[43mheaders\u001b[49m\u001b[43m=\u001b[49m\u001b[43mheaders\u001b[49m\u001b[43m,\u001b[49m\n\u001b[32m    794\u001b[39m \u001b[43m    \u001b[49m\u001b[43mchunked\u001b[49m\u001b[43m=\u001b[49m\u001b[43mchunked\u001b[49m\u001b[43m,\u001b[49m\n\u001b[32m    795\u001b[39m \u001b[43m    \u001b[49m\u001b[43mretries\u001b[49m\u001b[43m=\u001b[49m\u001b[43mretries\u001b[49m\u001b[43m,\u001b[49m\n\u001b[32m    796\u001b[39m \u001b[43m    \u001b[49m\u001b[43mresponse_conn\u001b[49m\u001b[43m=\u001b[49m\u001b[43mresponse_conn\u001b[49m\u001b[43m,\u001b[49m\n\u001b[32m    797\u001b[39m \u001b[43m    \u001b[49m\u001b[43mpreload_content\u001b[49m\u001b[43m=\u001b[49m\u001b[43mpreload_content\u001b[49m\u001b[43m,\u001b[49m\n\u001b[32m    798\u001b[39m \u001b[43m    \u001b[49m\u001b[43mdecode_content\u001b[49m\u001b[43m=\u001b[49m\u001b[43mdecode_content\u001b[49m\u001b[43m,\u001b[49m\n\u001b[32m    799\u001b[39m \u001b[43m    \u001b[49m\u001b[43m*\u001b[49m\u001b[43m*\u001b[49m\u001b[43mresponse_kw\u001b[49m\u001b[43m,\u001b[49m\n\u001b[32m    800\u001b[39m \u001b[43m\u001b[49m\u001b[43m)\u001b[49m\n\u001b[32m    802\u001b[39m \u001b[38;5;66;03m# Everything went great!\u001b[39;00m\n\u001b[32m    803\u001b[39m clean_exit = \u001b[38;5;28;01mTrue\u001b[39;00m\n",
      "\u001b[36mFile \u001b[39m\u001b[32mc:\\Users\\nukag\\projects\\.venv\\Lib\\site-packages\\urllib3\\connectionpool.py:534\u001b[39m, in \u001b[36mHTTPConnectionPool._make_request\u001b[39m\u001b[34m(self, conn, method, url, body, headers, retries, timeout, chunked, response_conn, preload_content, decode_content, enforce_content_length)\u001b[39m\n\u001b[32m    532\u001b[39m \u001b[38;5;66;03m# Receive the response from the server\u001b[39;00m\n\u001b[32m    533\u001b[39m \u001b[38;5;28;01mtry\u001b[39;00m:\n\u001b[32m--> \u001b[39m\u001b[32m534\u001b[39m     response = \u001b[43mconn\u001b[49m\u001b[43m.\u001b[49m\u001b[43mgetresponse\u001b[49m\u001b[43m(\u001b[49m\u001b[43m)\u001b[49m\n\u001b[32m    535\u001b[39m \u001b[38;5;28;01mexcept\u001b[39;00m (BaseSSLError, \u001b[38;5;167;01mOSError\u001b[39;00m) \u001b[38;5;28;01mas\u001b[39;00m e:\n\u001b[32m    536\u001b[39m     \u001b[38;5;28mself\u001b[39m._raise_timeout(err=e, url=url, timeout_value=read_timeout)\n",
      "\u001b[36mFile \u001b[39m\u001b[32mc:\\Users\\nukag\\projects\\.venv\\Lib\\site-packages\\urllib3\\connection.py:565\u001b[39m, in \u001b[36mHTTPConnection.getresponse\u001b[39m\u001b[34m(self)\u001b[39m\n\u001b[32m    562\u001b[39m _shutdown = \u001b[38;5;28mgetattr\u001b[39m(\u001b[38;5;28mself\u001b[39m.sock, \u001b[33m\"\u001b[39m\u001b[33mshutdown\u001b[39m\u001b[33m\"\u001b[39m, \u001b[38;5;28;01mNone\u001b[39;00m)\n\u001b[32m    564\u001b[39m \u001b[38;5;66;03m# Get the response from http.client.HTTPConnection\u001b[39;00m\n\u001b[32m--> \u001b[39m\u001b[32m565\u001b[39m httplib_response = \u001b[38;5;28;43msuper\u001b[39;49m\u001b[43m(\u001b[49m\u001b[43m)\u001b[49m\u001b[43m.\u001b[49m\u001b[43mgetresponse\u001b[49m\u001b[43m(\u001b[49m\u001b[43m)\u001b[49m\n\u001b[32m    567\u001b[39m \u001b[38;5;28;01mtry\u001b[39;00m:\n\u001b[32m    568\u001b[39m     assert_header_parsing(httplib_response.msg)\n",
      "\u001b[36mFile \u001b[39m\u001b[32m~\\AppData\\Local\\Programs\\Python\\Python313\\Lib\\http\\client.py:1430\u001b[39m, in \u001b[36mHTTPConnection.getresponse\u001b[39m\u001b[34m(self)\u001b[39m\n\u001b[32m   1428\u001b[39m \u001b[38;5;28;01mtry\u001b[39;00m:\n\u001b[32m   1429\u001b[39m     \u001b[38;5;28;01mtry\u001b[39;00m:\n\u001b[32m-> \u001b[39m\u001b[32m1430\u001b[39m         \u001b[43mresponse\u001b[49m\u001b[43m.\u001b[49m\u001b[43mbegin\u001b[49m\u001b[43m(\u001b[49m\u001b[43m)\u001b[49m\n\u001b[32m   1431\u001b[39m     \u001b[38;5;28;01mexcept\u001b[39;00m \u001b[38;5;167;01mConnectionError\u001b[39;00m:\n\u001b[32m   1432\u001b[39m         \u001b[38;5;28mself\u001b[39m.close()\n",
      "\u001b[36mFile \u001b[39m\u001b[32m~\\AppData\\Local\\Programs\\Python\\Python313\\Lib\\http\\client.py:331\u001b[39m, in \u001b[36mHTTPResponse.begin\u001b[39m\u001b[34m(self)\u001b[39m\n\u001b[32m    329\u001b[39m \u001b[38;5;66;03m# read until we get a non-100 response\u001b[39;00m\n\u001b[32m    330\u001b[39m \u001b[38;5;28;01mwhile\u001b[39;00m \u001b[38;5;28;01mTrue\u001b[39;00m:\n\u001b[32m--> \u001b[39m\u001b[32m331\u001b[39m     version, status, reason = \u001b[38;5;28;43mself\u001b[39;49m\u001b[43m.\u001b[49m\u001b[43m_read_status\u001b[49m\u001b[43m(\u001b[49m\u001b[43m)\u001b[49m\n\u001b[32m    332\u001b[39m     \u001b[38;5;28;01mif\u001b[39;00m status != CONTINUE:\n\u001b[32m    333\u001b[39m         \u001b[38;5;28;01mbreak\u001b[39;00m\n",
      "\u001b[36mFile \u001b[39m\u001b[32m~\\AppData\\Local\\Programs\\Python\\Python313\\Lib\\http\\client.py:292\u001b[39m, in \u001b[36mHTTPResponse._read_status\u001b[39m\u001b[34m(self)\u001b[39m\n\u001b[32m    291\u001b[39m \u001b[38;5;28;01mdef\u001b[39;00m\u001b[38;5;250m \u001b[39m\u001b[34m_read_status\u001b[39m(\u001b[38;5;28mself\u001b[39m):\n\u001b[32m--> \u001b[39m\u001b[32m292\u001b[39m     line = \u001b[38;5;28mstr\u001b[39m(\u001b[38;5;28;43mself\u001b[39;49m\u001b[43m.\u001b[49m\u001b[43mfp\u001b[49m\u001b[43m.\u001b[49m\u001b[43mreadline\u001b[49m\u001b[43m(\u001b[49m\u001b[43m_MAXLINE\u001b[49m\u001b[43m \u001b[49m\u001b[43m+\u001b[49m\u001b[43m \u001b[49m\u001b[32;43m1\u001b[39;49m\u001b[43m)\u001b[49m, \u001b[33m\"\u001b[39m\u001b[33miso-8859-1\u001b[39m\u001b[33m\"\u001b[39m)\n\u001b[32m    293\u001b[39m     \u001b[38;5;28;01mif\u001b[39;00m \u001b[38;5;28mlen\u001b[39m(line) > _MAXLINE:\n\u001b[32m    294\u001b[39m         \u001b[38;5;28;01mraise\u001b[39;00m LineTooLong(\u001b[33m\"\u001b[39m\u001b[33mstatus line\u001b[39m\u001b[33m\"\u001b[39m)\n",
      "\u001b[36mFile \u001b[39m\u001b[32m~\\AppData\\Local\\Programs\\Python\\Python313\\Lib\\socket.py:719\u001b[39m, in \u001b[36mSocketIO.readinto\u001b[39m\u001b[34m(self, b)\u001b[39m\n\u001b[32m    717\u001b[39m     \u001b[38;5;28;01mraise\u001b[39;00m \u001b[38;5;167;01mOSError\u001b[39;00m(\u001b[33m\"\u001b[39m\u001b[33mcannot read from timed out object\u001b[39m\u001b[33m\"\u001b[39m)\n\u001b[32m    718\u001b[39m \u001b[38;5;28;01mtry\u001b[39;00m:\n\u001b[32m--> \u001b[39m\u001b[32m719\u001b[39m     \u001b[38;5;28;01mreturn\u001b[39;00m \u001b[38;5;28;43mself\u001b[39;49m\u001b[43m.\u001b[49m\u001b[43m_sock\u001b[49m\u001b[43m.\u001b[49m\u001b[43mrecv_into\u001b[49m\u001b[43m(\u001b[49m\u001b[43mb\u001b[49m\u001b[43m)\u001b[49m\n\u001b[32m    720\u001b[39m \u001b[38;5;28;01mexcept\u001b[39;00m timeout:\n\u001b[32m    721\u001b[39m     \u001b[38;5;28mself\u001b[39m._timeout_occurred = \u001b[38;5;28;01mTrue\u001b[39;00m\n",
      "\u001b[31mKeyboardInterrupt\u001b[39m: "
     ]
    }
   ],
   "source": [
    "def change_year(year_to):\n",
    "    year_left_button = driver.find_element(By.CSS_SELECTOR, r'body > div:nth-child(31) > div > div > div.ds-grow.ds-overflow-y-auto.ds-p-0.\\!ds-overflow-hidden > div.ds-block.ds-grow.ds-border-line.ds-border-t.ds-overflow-y-auto.ds-h-full.ds-pb-20 > div > div > div > div > div > div > div.react-datepicker__header.react-datepicker__header--custom > div > button:nth-child(1)')\n",
    "    year_right_button = driver.find_element(By.CSS_SELECTOR, r'body > div:nth-child(31) > div > div > div.ds-grow.ds-overflow-y-auto.ds-p-0.\\!ds-overflow-hidden > div.ds-block.ds-grow.ds-border-line.ds-border-t.ds-overflow-y-auto.ds-h-full.ds-pb-20 > div > div > div > div > div > div > div.react-datepicker__header.react-datepicker__header--custom > div > button:nth-child(3)')\n",
    "    keypad_year = driver.find_element(By.CSS_SELECTOR, r'body > div:nth-child(31) > div > div > div.ds-grow.ds-overflow-y-auto.ds-p-0.\\!ds-overflow-hidden > div.ds-block.ds-grow.ds-border-line.ds-border-t.ds-overflow-y-auto.ds-h-full.ds-pb-20 > div > div > div > div > div > div > div.react-datepicker__header.react-datepicker__header--custom > div > span')\n",
    "    \n",
    "    year_from = int(keypad_year.text)\n",
    "    number_of_steps = abs(year_from-year_to)\n",
    "    print(keypad_year.text, '->', year_to, number_of_steps)\n",
    "    if year_from>year_to:\n",
    "        for i in range(number_of_steps): \n",
    "            year_left_button.click()\n",
    "            time.sleep(.1)\n",
    "    if year_from<year_to:\n",
    "        for i in range(number_of_steps):\n",
    "            year_right_button.click()\n",
    "            time.sleep(.1)\n",
    "\n",
    "change_year(2013)"
   ]
  },
  {
   "cell_type": "code",
   "execution_count": 70,
   "id": "84bf0c9a",
   "metadata": {},
   "outputs": [],
   "source": [
    "def change_month(month_to):\n",
    "    months_keypad = driver.find_element(By.CSS_SELECTOR, r\"body > div:nth-child(31) > div > div > div.ds-grow.ds-overflow-y-auto.ds-p-0.\\!ds-overflow-hidden > div.ds-block.ds-grow.ds-border-line.ds-border-t.ds-overflow-y-auto.ds-h-full.ds-pb-20 > div > div > div > div > div > div > div.react-datepicker__month.react-datepicker__monthPicker\")\n",
    "    month_buttons = months_keypad.find_elements(By.TAG_NAME, 'div')\n",
    "    actual_buttons = [b for b in month_buttons if len(b.text) == 3]\n",
    "    actual_buttons[3].click()\n",
    "    for b in actual_buttons:\n",
    "        if b.text.lower() == month_to: b.click()\n",
    "#change_month('apr')"
   ]
  },
  {
   "cell_type": "code",
   "execution_count": 59,
   "id": "f9708f27",
   "metadata": {},
   "outputs": [],
   "source": [
    "apply_button = driver.find_element(By.CSS_SELECTOR, r'body > div:nth-child(31) > div > div > div.ds-border-t.ds-border-line.ds-p-4.ds-flex.ds-flex-row.ds-items-center.\\!ds-py-0.ds-fixed.ds-bottom-0.ds-bg-fill-content-prime.ds-w-full > div > button')\n",
    "apply_button.click()"
   ]
  },
  {
   "cell_type": "code",
   "execution_count": 9,
   "id": "144ddf76",
   "metadata": {},
   "outputs": [],
   "source": [
    "def change_year_and_month(year_to:int, month_to:str):\n",
    "    navigator_month_button = driver.find_element(By.CSS_SELECTOR, r'#main-container > div.lg\\:ds-container.lg\\:ds-mx-auto.lg\\:ds-px-5 > div.ds-flex.ds-space-x-5 > div > div.ds-mb-4 > div:nth-child(1) > aside:nth-child(1) > div > div > div:nth-child(1) > div > div > div > div:nth-child(2) > span')\n",
    "\n",
    "    def change_year(year_to):\n",
    "        year_left_button = driver.find_element(By.CSS_SELECTOR, r'body > div:nth-child(31) > div > div > div.ds-grow.ds-overflow-y-auto.ds-p-0.\\!ds-overflow-hidden > div.ds-block.ds-grow.ds-border-line.ds-border-t.ds-overflow-y-auto.ds-h-full.ds-pb-20 > div > div > div > div > div > div > div.react-datepicker__header.react-datepicker__header--custom > div > button:nth-child(1)')\n",
    "        year_right_button = driver.find_element(By.CSS_SELECTOR, r'body > div:nth-child(31) > div > div > div.ds-grow.ds-overflow-y-auto.ds-p-0.\\!ds-overflow-hidden > div.ds-block.ds-grow.ds-border-line.ds-border-t.ds-overflow-y-auto.ds-h-full.ds-pb-20 > div > div > div > div > div > div > div.react-datepicker__header.react-datepicker__header--custom > div > button:nth-child(3)')\n",
    "        keypad_year = driver.find_element(By.CSS_SELECTOR, r'body > div:nth-child(31) > div > div > div.ds-grow.ds-overflow-y-auto.ds-p-0.\\!ds-overflow-hidden > div.ds-block.ds-grow.ds-border-line.ds-border-t.ds-overflow-y-auto.ds-h-full.ds-pb-20 > div > div > div > div > div > div > div.react-datepicker__header.react-datepicker__header--custom > div > span')\n",
    "        \n",
    "        year_from = int(keypad_year.text)\n",
    "        number_of_steps = abs(year_from-year_to)\n",
    "        \n",
    "        if year_from>year_to:\n",
    "            for i in range(number_of_steps): \n",
    "                year_left_button.click()\n",
    "        if year_from<year_to:\n",
    "            for i in range(number_of_steps):\n",
    "                year_right_button.click()\n",
    "    \n",
    "    def change_month(month_to):\n",
    "        months_keypad = driver.find_element(By.CSS_SELECTOR, r\"body > div:nth-child(31) > div > div > div.ds-grow.ds-overflow-y-auto.ds-p-0.\\!ds-overflow-hidden > div.ds-block.ds-grow.ds-border-line.ds-border-t.ds-overflow-y-auto.ds-h-full.ds-pb-20 > div > div > div > div > div > div > div.react-datepicker__month.react-datepicker__monthPicker\")\n",
    "        month_buttons = months_keypad.find_elements(By.TAG_NAME, 'div')\n",
    "        actual_buttons = [b for b in month_buttons if len(b.text) == 3]\n",
    "        actual_buttons[3].click()\n",
    "        for b in actual_buttons:\n",
    "            if b.text.lower() == month_to: b.click()\n",
    "    \n",
    "    navigator_month_button.click()\n",
    "    change_year(year_to)\n",
    "    change_month(month_to)\n",
    "    apply_button = driver.find_element(By.CSS_SELECTOR, r'body > div:nth-child(31) > div > div > div.ds-border-t.ds-border-line.ds-p-4.ds-flex.ds-flex-row.ds-items-center.\\!ds-py-0.ds-fixed.ds-bottom-0.ds-bg-fill-content-prime.ds-w-full > div > button')\n",
    "    apply_button.click()\n",
    "\n",
    "    "
   ]
  },
  {
   "cell_type": "code",
   "execution_count": null,
   "id": "c0c84ea5",
   "metadata": {},
   "outputs": [],
   "source": [
    "for year in range(2020,2025):\n",
    "    for month in months:\n",
    "        change_year_and_month(year,month)\n",
    "        time.sleep(1)"
   ]
  },
  {
   "cell_type": "code",
   "execution_count": 88,
   "id": "32e62a69",
   "metadata": {},
   "outputs": [
    {
     "name": "stdout",
     "output_type": "stream",
     "text": [
      "2025 -> 2024 1\n"
     ]
    }
   ],
   "source": [
    "change_year_and_month(2024,'dec')"
   ]
  },
  {
   "cell_type": "code",
   "execution_count": 97,
   "id": "243ee93a",
   "metadata": {},
   "outputs": [
    {
     "data": {
      "text/plain": [
       "['https://www.espncricinfo.com/series/icc-champions-trophy-2024-25-1459031/pakistan-vs-bangladesh-9th-match-group-a-1466422/full-scorecard',\n",
       " 'https://www.espncricinfo.com/series/bangladesh-in-sri-lanka-2025-1485499/sri-lanka-vs-bangladesh-1st-odi-1485505/full-scorecard',\n",
       " 'https://www.espncricinfo.com/series/bangladesh-in-sri-lanka-2025-1485499/sri-lanka-vs-bangladesh-2nd-odi-1485506/full-scorecard',\n",
       " 'https://www.espncricinfo.com/series/bangladesh-in-sri-lanka-2025-1485499/sri-lanka-vs-bangladesh-3rd-odi-1485507/full-scorecard',\n",
       " 'https://www.espncricinfo.com/series/afghanistan-v-bangladesh-2025-26-1500384/afghanistan-vs-bangladesh-1st-odi-1500393/live-cricket-score',\n",
       " 'https://www.espncricinfo.com/series/afghanistan-v-bangladesh-2025-26-1500384/afghanistan-vs-bangladesh-2nd-odi-1500394/live-cricket-score',\n",
       " 'https://www.espncricinfo.com/series/afghanistan-v-bangladesh-2025-26-1500384/afghanistan-vs-bangladesh-3rd-odi-1500395/live-cricket-score']"
      ]
     },
     "execution_count": 97,
     "metadata": {},
     "output_type": "execute_result"
    }
   ],
   "source": [
    "match_cards = driver.find_elements(By.CLASS_NAME, 'ds-no-tap-higlight')\n",
    "links = []\n",
    "for card in match_cards:\n",
    "    links.append(card.get_attribute('href'))\n",
    "links"
   ]
  },
  {
   "cell_type": "code",
   "execution_count": 11,
   "id": "3fe9975e",
   "metadata": {},
   "outputs": [],
   "source": [
    "years = range(2020,2025+1)\n",
    "\n",
    "from itertools import product\n",
    "\n",
    "year_and_monthIndices = [x for x in product(years,range(12)) if not ((x[0]==2020 and x[1]<6) or (x[0]==2025 and x[1]>7))]\n",
    "\n",
    "years_and_months = (map(lambda x:(x[0], months[x[1]]), year_and_monthIndices))"
   ]
  },
  {
   "cell_type": "code",
   "execution_count": 12,
   "id": "bef4d92c",
   "metadata": {},
   "outputs": [],
   "source": [
    "match_links = {}\n",
    "for pair in years_and_months:\n",
    "    driver.implicitly_wait(1)\n",
    "    year, month = pair\n",
    "    change_year_and_month(year,month)\n",
    "    try:\n",
    "        time.sleep(1)\n",
    "        match_cards = driver.find_elements(By.CLASS_NAME, 'ds-no-tap-higlight')\n",
    "        links = []\n",
    "        for card in match_cards:\n",
    "            links.append(card.get_attribute('href'))\n",
    "        match_links[str(year)+'-'+month] = links\n",
    "    except:\n",
    "        print(f'no matches found in {year, month}')\n",
    "\n",
    "driver.quit()"
   ]
  },
  {
   "cell_type": "code",
   "execution_count": 13,
   "id": "62cd35a3",
   "metadata": {},
   "outputs": [
    {
     "data": {
      "text/plain": [
       "{'2020-jul': [],\n",
       " '2020-aug': [],\n",
       " '2020-sep': [],\n",
       " '2020-oct': [],\n",
       " '2020-nov': [],\n",
       " '2020-dec': [],\n",
       " '2021-jan': ['https://www.espncricinfo.com/series/west-indies-in-bdesh-2020-21-1244017/bangladesh-vs-west-indies-1st-odi-1244022/full-scorecard',\n",
       "  'https://www.espncricinfo.com/series/west-indies-in-bdesh-2020-21-1244017/bangladesh-vs-west-indies-2nd-odi-1244023/full-scorecard',\n",
       "  'https://www.espncricinfo.com/series/west-indies-in-bdesh-2020-21-1244017/bangladesh-vs-west-indies-3rd-odi-1244024/full-scorecard'],\n",
       " '2021-feb': [],\n",
       " '2021-mar': ['https://www.espncricinfo.com/series/bangladesh-in-nz-2020-21-1233967/new-zealand-vs-bangladesh-1st-odi-1233976/full-scorecard',\n",
       "  'https://www.espncricinfo.com/series/bangladesh-in-nz-2020-21-1233967/new-zealand-vs-bangladesh-2nd-odi-1233977/full-scorecard',\n",
       "  'https://www.espncricinfo.com/series/bangladesh-in-nz-2020-21-1233967/new-zealand-vs-bangladesh-3rd-odi-1233978/full-scorecard'],\n",
       " '2021-apr': [],\n",
       " '2021-may': ['https://www.espncricinfo.com/series/sri-lanka-tour-of-bangladesh-2021-1262340/bangladesh-vs-sri-lanka-1st-odi-1262344/full-scorecard',\n",
       "  'https://www.espncricinfo.com/series/sri-lanka-tour-of-bangladesh-2021-1262340/bangladesh-vs-sri-lanka-2nd-odi-1262346/full-scorecard',\n",
       "  'https://www.espncricinfo.com/series/sri-lanka-tour-of-bangladesh-2021-1262340/bangladesh-vs-sri-lanka-3rd-odi-1262347/full-scorecard'],\n",
       " '2021-jun': [],\n",
       " '2021-jul': ['https://www.espncricinfo.com/series/bangladesh-in-zimbabwe-2021-1267671/zimbabwe-vs-bangladesh-1st-odi-1267677/full-scorecard',\n",
       "  'https://www.espncricinfo.com/series/bangladesh-in-zimbabwe-2021-1267671/zimbabwe-vs-bangladesh-2nd-odi-1267678/full-scorecard',\n",
       "  'https://www.espncricinfo.com/series/bangladesh-in-zimbabwe-2021-1267671/zimbabwe-vs-bangladesh-3rd-odi-1267679/full-scorecard'],\n",
       " '2021-aug': [],\n",
       " '2021-sep': [],\n",
       " '2021-oct': [],\n",
       " '2021-nov': [],\n",
       " '2021-dec': [],\n",
       " '2022-jan': [],\n",
       " '2022-feb': ['https://www.espncricinfo.com/series/afghanistan-in-bangladesh-2021-22-1299826/bangladesh-vs-afghanistan-1st-odi-1299829/full-scorecard',\n",
       "  'https://www.espncricinfo.com/series/afghanistan-in-bangladesh-2021-22-1299826/bangladesh-vs-afghanistan-2nd-odi-1299830/full-scorecard',\n",
       "  'https://www.espncricinfo.com/series/afghanistan-in-bangladesh-2021-22-1299826/bangladesh-vs-afghanistan-3rd-odi-1299831/full-scorecard'],\n",
       " '2022-mar': ['https://www.espncricinfo.com/series/bangladesh-in-south-africa-2021-22-1277070/south-africa-vs-bangladesh-1st-odi-1277097/full-scorecard',\n",
       "  'https://www.espncricinfo.com/series/bangladesh-in-south-africa-2021-22-1277070/south-africa-vs-bangladesh-2nd-odi-1277098/full-scorecard',\n",
       "  'https://www.espncricinfo.com/series/bangladesh-in-south-africa-2021-22-1277070/south-africa-vs-bangladesh-3rd-odi-1277099/full-scorecard'],\n",
       " '2022-apr': [],\n",
       " '2022-may': [],\n",
       " '2022-jun': [],\n",
       " '2022-jul': ['https://www.espncricinfo.com/series/bangladesh-tour-of-west-indies-2022-1317143/west-indies-vs-bangladesh-1st-odi-1317152/full-scorecard',\n",
       "  'https://www.espncricinfo.com/series/bangladesh-tour-of-west-indies-2022-1317143/west-indies-vs-bangladesh-2nd-odi-1317153/full-scorecard',\n",
       "  'https://www.espncricinfo.com/series/bangladesh-tour-of-west-indies-2022-1317143/west-indies-vs-bangladesh-3rd-odi-1317154/full-scorecard'],\n",
       " '2022-aug': ['https://www.espncricinfo.com/series/bangladesh-in-zimbabwe-2022-1323288/zimbabwe-vs-bangladesh-1st-odi-1323292/full-scorecard',\n",
       "  'https://www.espncricinfo.com/series/bangladesh-in-zimbabwe-2022-1323288/zimbabwe-vs-bangladesh-2nd-odi-1323293/full-scorecard',\n",
       "  'https://www.espncricinfo.com/series/bangladesh-in-zimbabwe-2022-1323288/zimbabwe-vs-bangladesh-3rd-odi-1323294/full-scorecard'],\n",
       " '2022-sep': [],\n",
       " '2022-oct': [],\n",
       " '2022-nov': [],\n",
       " '2022-dec': ['https://www.espncricinfo.com/series/india-in-bangladesh-2022-23-1340842/bangladesh-vs-india-1st-odi-1340845/full-scorecard',\n",
       "  'https://www.espncricinfo.com/series/india-in-bangladesh-2022-23-1340842/bangladesh-vs-india-2nd-odi-1340846/full-scorecard',\n",
       "  'https://www.espncricinfo.com/series/india-in-bangladesh-2022-23-1340842/bangladesh-vs-india-3rd-odi-1340847/full-scorecard'],\n",
       " '2023-jan': [],\n",
       " '2023-feb': [],\n",
       " '2023-mar': ['https://www.espncricinfo.com/series/england-in-bangladesh-2022-23-1351394/bangladesh-vs-england-1st-odi-1351397/full-scorecard',\n",
       "  'https://www.espncricinfo.com/series/england-in-bangladesh-2022-23-1351394/bangladesh-vs-england-2nd-odi-1351398/full-scorecard',\n",
       "  'https://www.espncricinfo.com/series/england-in-bangladesh-2022-23-1351394/bangladesh-vs-england-3rd-odi-1351399/full-scorecard',\n",
       "  'https://www.espncricinfo.com/series/ireland-in-bangladesh-2022-23-1355710/bangladesh-vs-ireland-1st-odi-1355717/full-scorecard',\n",
       "  'https://www.espncricinfo.com/series/ireland-in-bangladesh-2022-23-1355710/bangladesh-vs-ireland-2nd-odi-1355718/full-scorecard',\n",
       "  'https://www.espncricinfo.com/series/ireland-in-bangladesh-2022-23-1355710/bangladesh-vs-ireland-3rd-odi-1355719/full-scorecard'],\n",
       " '2023-apr': [],\n",
       " '2023-may': ['https://www.espncricinfo.com/series/ireland-v-bangladesh-2023-1364121/bangladesh-vs-ireland-1st-odi-1364124/full-scorecard',\n",
       "  'https://www.espncricinfo.com/series/world-cup-super-league-2020-2022-23-1227837/bangladesh-vs-ireland-2nd-odi-1364125/full-scorecard',\n",
       "  'https://www.espncricinfo.com/series/world-cup-super-league-2020-2022-23-1227837/bangladesh-vs-ireland-3rd-odi-1365552/full-scorecard'],\n",
       " '2023-jun': [],\n",
       " '2023-jul': ['https://www.espncricinfo.com/series/afghanistan-in-bangladesh-2023-1377001/bangladesh-vs-afghanistan-1st-odi-1377012/full-scorecard',\n",
       "  'https://www.espncricinfo.com/series/afghanistan-in-bangladesh-2023-1377001/bangladesh-vs-afghanistan-2nd-odi-1377013/full-scorecard',\n",
       "  'https://www.espncricinfo.com/series/afghanistan-in-bangladesh-2023-1377001/bangladesh-vs-afghanistan-3rd-odi-1377014/full-scorecard'],\n",
       " '2023-aug': ['https://www.espncricinfo.com/series/asia-cup-2023-1388374/sri-lanka-vs-bangladesh-2nd-match-group-b-1388393/full-scorecard'],\n",
       " '2023-sep': ['https://www.espncricinfo.com/series/asia-cup-2023-1388374/afghanistan-vs-bangladesh-4th-match-group-b-1388397/full-scorecard',\n",
       "  'https://www.espncricinfo.com/series/asia-cup-2023-1388374/pakistan-vs-bangladesh-7th-match-super-four-1388401/full-scorecard',\n",
       "  'https://www.espncricinfo.com/series/asia-cup-2023-1388374/sri-lanka-vs-bangladesh-8th-match-super-four-1388403/full-scorecard',\n",
       "  'https://www.espncricinfo.com/series/asia-cup-2023-1388374/bangladesh-vs-india-12th-match-super-four-1388412/full-scorecard',\n",
       "  'https://www.espncricinfo.com/series/new-zealand-in-bangladesh-2023-1395686/bangladesh-vs-new-zealand-1st-odi-1395700/full-scorecard',\n",
       "  'https://www.espncricinfo.com/series/new-zealand-in-bangladesh-2023-1395686/bangladesh-vs-new-zealand-2nd-odi-1395701/full-scorecard',\n",
       "  'https://www.espncricinfo.com/series/new-zealand-in-bangladesh-2023-1395686/bangladesh-vs-new-zealand-3rd-odi-1395702/full-scorecard'],\n",
       " '2023-oct': ['https://www.espncricinfo.com/series/icc-cricket-world-cup-2023-24-1367856/afghanistan-vs-bangladesh-3rd-match-1384394/full-scorecard',\n",
       "  'https://www.espncricinfo.com/series/icc-cricket-world-cup-2023-24-1367856/bangladesh-vs-england-7th-match-1384398/full-scorecard',\n",
       "  'https://www.espncricinfo.com/series/icc-cricket-world-cup-2023-24-1367856/bangladesh-vs-new-zealand-11th-match-1384402/full-scorecard',\n",
       "  'https://www.espncricinfo.com/series/icc-cricket-world-cup-2023-24-1367856/india-vs-bangladesh-17th-match-1384408/full-scorecard',\n",
       "  'https://www.espncricinfo.com/series/icc-cricket-world-cup-2023-24-1367856/bangladesh-vs-south-africa-23rd-match-1384414/full-scorecard',\n",
       "  'https://www.espncricinfo.com/series/icc-cricket-world-cup-2023-24-1367856/bangladesh-vs-netherlands-28th-match-1384419/full-scorecard',\n",
       "  'https://www.espncricinfo.com/series/icc-cricket-world-cup-2023-24-1367856/bangladesh-vs-pakistan-31st-match-1384422/full-scorecard'],\n",
       " '2023-nov': ['https://www.espncricinfo.com/series/icc-cricket-world-cup-2023-24-1367856/bangladesh-vs-sri-lanka-38th-match-1384429/full-scorecard',\n",
       "  'https://www.espncricinfo.com/series/icc-cricket-world-cup-2023-24-1367856/australia-vs-bangladesh-43rd-match-1384434/full-scorecard'],\n",
       " '2023-dec': ['https://www.espncricinfo.com/series/bangladesh-in-new-zealand-2023-24-1388181/new-zealand-vs-bangladesh-1st-odi-1408102/full-scorecard',\n",
       "  'https://www.espncricinfo.com/series/bangladesh-in-new-zealand-2023-24-1388181/new-zealand-vs-bangladesh-2nd-odi-1388211/full-scorecard',\n",
       "  'https://www.espncricinfo.com/series/bangladesh-in-new-zealand-2023-24-1388181/new-zealand-vs-bangladesh-3rd-odi-1388212/full-scorecard'],\n",
       " '2024-jan': [],\n",
       " '2024-feb': [],\n",
       " '2024-mar': ['https://www.espncricinfo.com/series/bangladesh-vs-sri-lanka-2023-24-1419819/bangladesh-vs-sri-lanka-1st-odi-1419827/full-scorecard',\n",
       "  'https://www.espncricinfo.com/series/bangladesh-vs-sri-lanka-2023-24-1419819/bangladesh-vs-sri-lanka-2nd-odi-1419828/full-scorecard',\n",
       "  'https://www.espncricinfo.com/series/bangladesh-vs-sri-lanka-2023-24-1419819/bangladesh-vs-sri-lanka-3rd-odi-1419829/full-scorecard'],\n",
       " '2024-apr': [],\n",
       " '2024-may': [],\n",
       " '2024-jun': [],\n",
       " '2024-jul': [],\n",
       " '2024-aug': [],\n",
       " '2024-sep': [],\n",
       " '2024-oct': [],\n",
       " '2024-nov': ['https://www.espncricinfo.com/series/afghanistan-v-bangladesh-2024-25-1453068/afghanistan-vs-bangladesh-1st-odi-1453070/full-scorecard',\n",
       "  'https://www.espncricinfo.com/series/afghanistan-v-bangladesh-2024-25-1453068/afghanistan-vs-bangladesh-2nd-odi-1453071/full-scorecard',\n",
       "  'https://www.espncricinfo.com/series/afghanistan-v-bangladesh-2024-25-1453068/afghanistan-vs-bangladesh-3rd-odi-1453072/full-scorecard'],\n",
       " '2024-dec': ['https://www.espncricinfo.com/series/west-indies-vs-bangladesh-2024-25-1433357/west-indies-vs-bangladesh-1st-odi-1433380/full-scorecard',\n",
       "  'https://www.espncricinfo.com/series/west-indies-vs-bangladesh-2024-25-1433357/west-indies-vs-bangladesh-2nd-odi-1433381/full-scorecard',\n",
       "  'https://www.espncricinfo.com/series/west-indies-vs-bangladesh-2024-25-1433357/west-indies-vs-bangladesh-3rd-odi-1433382/full-scorecard'],\n",
       " '2025-jan': [],\n",
       " '2025-feb': ['https://www.espncricinfo.com/series/icc-champions-trophy-2024-25-1459031/bangladesh-vs-india-2nd-match-group-a-1466415/full-scorecard',\n",
       "  'https://www.espncricinfo.com/series/icc-champions-trophy-2024-25-1459031/bangladesh-vs-new-zealand-6th-match-group-a-1466419/full-scorecard',\n",
       "  'https://www.espncricinfo.com/series/icc-champions-trophy-2024-25-1459031/pakistan-vs-bangladesh-9th-match-group-a-1466422/full-scorecard'],\n",
       " '2025-mar': [],\n",
       " '2025-apr': [],\n",
       " '2025-may': [],\n",
       " '2025-jun': [],\n",
       " '2025-jul': ['https://www.espncricinfo.com/series/bangladesh-in-sri-lanka-2025-1485499/sri-lanka-vs-bangladesh-1st-odi-1485505/full-scorecard',\n",
       "  'https://www.espncricinfo.com/series/bangladesh-in-sri-lanka-2025-1485499/sri-lanka-vs-bangladesh-2nd-odi-1485506/full-scorecard',\n",
       "  'https://www.espncricinfo.com/series/bangladesh-in-sri-lanka-2025-1485499/sri-lanka-vs-bangladesh-3rd-odi-1485507/full-scorecard'],\n",
       " '2025-aug': []}"
      ]
     },
     "execution_count": 13,
     "metadata": {},
     "output_type": "execute_result"
    }
   ],
   "source": [
    "match_links"
   ]
  },
  {
   "cell_type": "code",
   "execution_count": 14,
   "id": "63040284",
   "metadata": {},
   "outputs": [],
   "source": [
    "na_ml = {}\n",
    "for t in match_links.keys():\n",
    "    if len(match_links[t]) != 0: na_ml[t] = match_links[t]"
   ]
  },
  {
   "cell_type": "code",
   "execution_count": 17,
   "id": "06267376",
   "metadata": {},
   "outputs": [],
   "source": [
    "match_records = []\n",
    "for pair in na_ml.keys():\n",
    "    year, month = (pair[0:4], pair[-3:])\n",
    "    for link in na_ml[pair]:\n",
    "        record={\n",
    "            'year': year,\n",
    "            'month': month,\n",
    "            'link': link\n",
    "        }\n",
    "        match_records.append(record)\n",
    "import pandas as pd\n",
    "match_links_df = pd.DataFrame(match_records)\n",
    "match_links_df.to_csv('match_links.csv', index=False)"
   ]
  },
  {
   "cell_type": "code",
   "execution_count": 14,
   "id": "8a330a28",
   "metadata": {},
   "outputs": [
    {
     "data": {
      "text/plain": [
       "dict_keys(['2020-aug', '2020-sep', '2020-oct', '2020-nov', '2020-dec', '2021-jan', '2021-feb', '2021-mar', '2021-apr', '2021-may', '2021-jun', '2021-jul', '2021-aug', '2021-sep', '2021-oct', '2021-nov', '2021-dec', '2022-jan', '2022-feb', '2022-mar', '2022-apr', '2022-may', '2022-jun', '2022-jul', '2022-aug', '2022-sep', '2022-oct', '2022-nov', '2022-dec', '2023-jan', '2023-feb', '2023-mar', '2023-apr', '2023-may', '2023-jun', '2023-jul', '2023-aug', '2023-sep', '2023-oct', '2023-nov', '2023-dec', '2024-jan', '2024-feb', '2024-mar', '2024-apr', '2024-may', '2024-jun', '2024-jul', '2024-aug', '2024-sep', '2024-oct', '2024-nov', '2024-dec', '2025-jan', '2025-feb', '2025-mar', '2025-apr', '2025-may', '2025-jun', '2025-jul', '2025-aug'])"
      ]
     },
     "execution_count": 14,
     "metadata": {},
     "output_type": "execute_result"
    }
   ],
   "source": [
    "match_links.keys()"
   ]
  },
  {
   "cell_type": "code",
   "execution_count": 10,
   "id": "e9599d11",
   "metadata": {},
   "outputs": [
    {
     "data": {
      "text/plain": [
       "['jan',\n",
       " 'feb',\n",
       " 'mar',\n",
       " 'apr',\n",
       " 'may',\n",
       " 'jun',\n",
       " 'jul',\n",
       " 'aug',\n",
       " 'sep',\n",
       " 'oct',\n",
       " 'nov',\n",
       " 'dec']"
      ]
     },
     "execution_count": 10,
     "metadata": {},
     "output_type": "execute_result"
    }
   ],
   "source": [
    "months = (\"\"\"Jan\n",
    "Feb\n",
    "Mar\n",
    "Apr\n",
    "May\n",
    "Jun\n",
    "Jul\n",
    "Aug\n",
    "Sep\n",
    "Oct\n",
    "Nov\n",
    "Dec\"\"\").lower().split('\\n')\n",
    "months"
   ]
  },
  {
   "cell_type": "markdown",
   "id": "f224df2a",
   "metadata": {},
   "source": [
    "Jan 0\n",
    "Feb 1\n",
    "Mar 2\n",
    "Apr 3\n",
    "May 4\n",
    "Jun 5\n",
    "Jul 6\n",
    "Aug 7\n",
    "Sep 8\n",
    "Oct 9\n",
    "Nov 10\n",
    "Dec 11\n",
    "\n",
    "2020 m<7\n",
    "2025 m>7"
   ]
  }
 ],
 "metadata": {
  "kernelspec": {
   "display_name": ".venv",
   "language": "python",
   "name": "python3"
  },
  "language_info": {
   "codemirror_mode": {
    "name": "ipython",
    "version": 3
   },
   "file_extension": ".py",
   "mimetype": "text/x-python",
   "name": "python",
   "nbconvert_exporter": "python",
   "pygments_lexer": "ipython3",
   "version": "3.13.5"
  }
 },
 "nbformat": 4,
 "nbformat_minor": 5
}
