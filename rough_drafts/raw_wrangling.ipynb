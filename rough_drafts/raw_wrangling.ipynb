{
 "cells": [
  {
   "cell_type": "code",
   "execution_count": 14,
   "id": "4ba3a2a4",
   "metadata": {},
   "outputs": [],
   "source": [
    "import pandas as pd\n",
    "import io\n",
    "import os"
   ]
  },
  {
   "cell_type": "code",
   "execution_count": 24,
   "id": "65816181",
   "metadata": {},
   "outputs": [
    {
     "data": {
      "text/plain": [
       "Unnamed: 0                                                          67\n",
       "title                                                        SL vs BAN\n",
       "summary_text                                  Sri Lanka won by 77 runs\n",
       "short_description    1st ODI (D/N), Colombo (RPS), July 02, 2025, B...\n",
       "first_table_name                                             Sri Lanka\n",
       "link                 https://www.espncricinfo.com/series/bangladesh...\n",
       "Name: 67, dtype: object"
      ]
     },
     "execution_count": 24,
     "metadata": {},
     "output_type": "execute_result"
    }
   ],
   "source": [
    "pd.read_csv('raw_match_stats.csv').loc[67,]"
   ]
  },
  {
   "cell_type": "code",
   "execution_count": 32,
   "id": "9eed2098",
   "metadata": {},
   "outputs": [
    {
     "data": {
      "text/html": [
       "<div>\n",
       "<style scoped>\n",
       "    .dataframe tbody tr th:only-of-type {\n",
       "        vertical-align: middle;\n",
       "    }\n",
       "\n",
       "    .dataframe tbody tr th {\n",
       "        vertical-align: top;\n",
       "    }\n",
       "\n",
       "    .dataframe thead th {\n",
       "        text-align: right;\n",
       "    }\n",
       "</style>\n",
       "<table border=\"1\" class=\"dataframe\">\n",
       "  <thead>\n",
       "    <tr style=\"text-align: right;\">\n",
       "      <th></th>\n",
       "      <th>0</th>\n",
       "      <th>1</th>\n",
       "    </tr>\n",
       "  </thead>\n",
       "  <tbody>\n",
       "    <tr>\n",
       "      <th>0</th>\n",
       "      <td>Warner Park, Basseterre, St Kitts</td>\n",
       "      <td>Warner Park, Basseterre, St Kitts</td>\n",
       "    </tr>\n",
       "    <tr>\n",
       "      <th>1</th>\n",
       "      <td>Toss</td>\n",
       "      <td>West Indies, elected to field first</td>\n",
       "    </tr>\n",
       "    <tr>\n",
       "      <th>2</th>\n",
       "      <td>Series</td>\n",
       "      <td>Bangladesh tour of West Indies</td>\n",
       "    </tr>\n",
       "    <tr>\n",
       "      <th>3</th>\n",
       "      <td>Season</td>\n",
       "      <td>2024/25</td>\n",
       "    </tr>\n",
       "    <tr>\n",
       "      <th>4</th>\n",
       "      <td>Player Of The Match</td>\n",
       "      <td>Amir Jangoo</td>\n",
       "    </tr>\n",
       "    <tr>\n",
       "      <th>5</th>\n",
       "      <td>Player Of The Series</td>\n",
       "      <td>Sherfane Rutherford</td>\n",
       "    </tr>\n",
       "    <tr>\n",
       "      <th>6</th>\n",
       "      <td>Series result</td>\n",
       "      <td>West Indies won the 3-match series 3-0</td>\n",
       "    </tr>\n",
       "    <tr>\n",
       "      <th>7</th>\n",
       "      <td>Match number</td>\n",
       "      <td>ODI no. 4815</td>\n",
       "    </tr>\n",
       "    <tr>\n",
       "      <th>8</th>\n",
       "      <td>Hours of play (local time)</td>\n",
       "      <td>9.30 start, First Session 9.30-13.00, Interval...</td>\n",
       "    </tr>\n",
       "    <tr>\n",
       "      <th>9</th>\n",
       "      <td>Match days</td>\n",
       "      <td>12 December 2024 - day (50-over match)</td>\n",
       "    </tr>\n",
       "    <tr>\n",
       "      <th>10</th>\n",
       "      <td>ODI debut</td>\n",
       "      <td>Amir JangooJediah Blades</td>\n",
       "    </tr>\n",
       "    <tr>\n",
       "      <th>11</th>\n",
       "      <td>Umpires</td>\n",
       "      <td>Kumar DharmasenaDRSLeslie ReiferDRS</td>\n",
       "    </tr>\n",
       "    <tr>\n",
       "      <th>12</th>\n",
       "      <td>TV Umpire</td>\n",
       "      <td>Asif Yaqoob</td>\n",
       "    </tr>\n",
       "    <tr>\n",
       "      <th>13</th>\n",
       "      <td>Reserve Umpire</td>\n",
       "      <td>Gregory Brathwaite</td>\n",
       "    </tr>\n",
       "    <tr>\n",
       "      <th>14</th>\n",
       "      <td>Match Referee</td>\n",
       "      <td>Jeff Crowe</td>\n",
       "    </tr>\n",
       "  </tbody>\n",
       "</table>\n",
       "</div>"
      ],
      "text/plain": [
       "                                    0  \\\n",
       "0   Warner Park, Basseterre, St Kitts   \n",
       "1                                Toss   \n",
       "2                              Series   \n",
       "3                              Season   \n",
       "4                 Player Of The Match   \n",
       "5                Player Of The Series   \n",
       "6                       Series result   \n",
       "7                        Match number   \n",
       "8          Hours of play (local time)   \n",
       "9                          Match days   \n",
       "10                          ODI debut   \n",
       "11                            Umpires   \n",
       "12                          TV Umpire   \n",
       "13                     Reserve Umpire   \n",
       "14                      Match Referee   \n",
       "\n",
       "                                                    1  \n",
       "0                   Warner Park, Basseterre, St Kitts  \n",
       "1                 West Indies, elected to field first  \n",
       "2                      Bangladesh tour of West Indies  \n",
       "3                                             2024/25  \n",
       "4                                         Amir Jangoo  \n",
       "5                                 Sherfane Rutherford  \n",
       "6              West Indies won the 3-match series 3-0  \n",
       "7                                        ODI no. 4815  \n",
       "8   9.30 start, First Session 9.30-13.00, Interval...  \n",
       "9              12 December 2024 - day (50-over match)  \n",
       "10                           Amir JangooJediah Blades  \n",
       "11                Kumar DharmasenaDRSLeslie ReiferDRS  \n",
       "12                                        Asif Yaqoob  \n",
       "13                                 Gregory Brathwaite  \n",
       "14                                         Jeff Crowe  "
      ]
     },
     "execution_count": 32,
     "metadata": {},
     "output_type": "execute_result"
    }
   ],
   "source": [
    "def get_table(i,j):\n",
    "    with open(f'./raw_tables/match_{i}_table_{j}.html') as f:\n",
    "            raw_table = f.read()\n",
    "    return pd.read_html(\n",
    "        io.StringIO(raw_table)\n",
    "    )[0]\n",
    "\n",
    "get_table(67,4)"
   ]
  },
  {
   "cell_type": "code",
   "execution_count": 5,
   "id": "88e6a75b",
   "metadata": {},
   "outputs": [
    {
     "data": {
      "text/plain": [
       "355"
      ]
     },
     "execution_count": 5,
     "metadata": {},
     "output_type": "execute_result"
    }
   ],
   "source": [
    "len(os.listdir('./raw_tables'))"
   ]
  }
 ],
 "metadata": {
  "kernelspec": {
   "display_name": ".venv",
   "language": "python",
   "name": "python3"
  },
  "language_info": {
   "codemirror_mode": {
    "name": "ipython",
    "version": 3
   },
   "file_extension": ".py",
   "mimetype": "text/x-python",
   "name": "python",
   "nbconvert_exporter": "python",
   "pygments_lexer": "ipython3",
   "version": "3.13.5"
  }
 },
 "nbformat": 4,
 "nbformat_minor": 5
}
